import pandas as pd
from pandas import DataFrame
import matplotlib.pyplot as plt
import itertools

pd.set_option('display.max_rows', 100)
pd.set_option('display.max_columns', 100)
pd.set_option('display.width', 100)
